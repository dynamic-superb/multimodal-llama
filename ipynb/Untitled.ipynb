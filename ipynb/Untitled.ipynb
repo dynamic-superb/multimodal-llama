{
 "cells": [
  {
   "cell_type": "code",
   "execution_count": 1,
   "id": "e5e9aa6b-54e2-44db-9444-bbcf25ee66aa",
   "metadata": {},
   "outputs": [
    {
     "name": "stderr",
     "output_type": "stream",
     "text": [
      "/home/u8915687/miniconda3/envs/imagebind_LLM/lib/python3.9/site-packages/whisper/timing.py:58: NumbaDeprecationWarning: The 'nopython' keyword argument was not supplied to the 'numba.jit' decorator. The implicit default value for this argument is currently False, but it will be changed to True in Numba 0.59.0. See https://numba.readthedocs.io/en/stable/reference/deprecation.html#deprecation-of-object-mode-fall-back-behaviour-when-using-jit for details.\n",
      "  def backtrace(trace: np.ndarray):\n"
     ]
    }
   ],
   "source": [
    "from transformers import WhisperModel, WhisperConfig\n",
    "import whisper\n",
    "import torch"
   ]
  },
  {
   "cell_type": "code",
   "execution_count": 2,
   "id": "af782d2f-2b5b-4566-81f9-88c8a4dfd740",
   "metadata": {},
   "outputs": [],
   "source": [
    "model_config = WhisperConfig.from_pretrained(\"openai/whisper-medium\")\n",
    "model = WhisperModel.from_pretrained(\"openai/whisper-medium\")"
   ]
  },
  {
   "cell_type": "code",
   "execution_count": 43,
   "id": "0797f725-0150-4e56-abdc-fc4bf3d444e1",
   "metadata": {},
   "outputs": [
    {
     "name": "stdout",
     "output_type": "stream",
     "text": [
      "198800\n"
     ]
    }
   ],
   "source": [
    "audio = whisper.load_audio(\"/work/u8915687/big-superb/big-superb-train-data/SpeechTextMatching_LibrispeechTrainClean100/train/307-127535-0008.flac\")\n",
    "print(len(audio))\n",
    "audio = whisper.pad_or_trim(audio)\n",
    "mel = whisper.log_mel_spectrogram(audio).unsqueeze(0)"
   ]
  },
  {
   "cell_type": "code",
   "execution_count": null,
   "id": "acedfdf7-508b-4f8b-affd-ef12ee462320",
   "metadata": {},
   "outputs": [],
   "source": []
  },
  {
   "cell_type": "code",
   "execution_count": 47,
   "id": "141d3c26-7044-4302-953a-81bf6480cdda",
   "metadata": {},
   "outputs": [
    {
     "data": {
      "text/plain": [
       "(198800,)"
      ]
     },
     "execution_count": 47,
     "metadata": {},
     "output_type": "execute_result"
    }
   ],
   "source": [
    "whisper.load_audio(\"/work/u8915687/big-superb/big-superb-train-data/SpeechTextMatching_LibrispeechTrainClean100/train/307-127535-0008.flac\").shape"
   ]
  },
  {
   "cell_type": "code",
   "execution_count": null,
   "id": "a39ec335-d70c-4f53-8adc-832917767f26",
   "metadata": {},
   "outputs": [],
   "source": []
  },
  {
   "cell_type": "code",
   "execution_count": 6,
   "id": "d55d854c-85dc-4863-9ab7-ff2bcaa3eedc",
   "metadata": {},
   "outputs": [],
   "source": [
    "mel = mel.to(\"cuda\")\n",
    "model = model.to(\"cuda\")"
   ]
  },
  {
   "cell_type": "code",
   "execution_count": 11,
   "id": "a33c88c9-ea79-424a-9a4e-1052bb241efc",
   "metadata": {},
   "outputs": [],
   "source": [
    "output = model.encoder(mel)"
   ]
  },
  {
   "cell_type": "code",
   "execution_count": 12,
   "id": "27d4481d-629f-4ba5-b161-1b7e91fa347c",
   "metadata": {},
   "outputs": [
    {
     "data": {
      "text/plain": [
       "tensor([[[-7.9813e-01,  4.9417e-01, -1.2200e+00,  ..., -1.1205e+00,\n",
       "          -3.9536e-01,  2.1145e+00],\n",
       "         [-1.2252e-01,  1.3586e-01, -1.0996e+00,  ..., -2.0104e+00,\n",
       "           3.0757e-02,  1.3367e+00],\n",
       "         [-2.1397e+00, -1.9440e-03,  5.1249e-01,  ...,  1.2017e+00,\n",
       "           9.9713e-01,  1.0283e+00],\n",
       "         ...,\n",
       "         [-9.3571e-02,  6.9931e-01,  1.0634e+00,  ...,  6.8936e-02,\n",
       "          -8.8745e-01, -5.1617e-01],\n",
       "         [-8.0370e-01,  1.1472e+00,  1.3481e+00,  ...,  1.1574e+00,\n",
       "          -6.3519e-01, -6.7661e-01],\n",
       "         [-1.2052e+00,  1.3521e+00,  1.4718e+00,  ...,  1.2762e+00,\n",
       "          -3.9900e-01, -6.2857e-01]]], device='cuda:0',\n",
       "       grad_fn=<NativeLayerNormBackward0>)"
      ]
     },
     "execution_count": 12,
     "metadata": {},
     "output_type": "execute_result"
    }
   ],
   "source": []
  },
  {
   "cell_type": "code",
   "execution_count": 38,
   "id": "38d7fde1-4ad2-4081-8b4a-43e08dce19a7",
   "metadata": {},
   "outputs": [
    {
     "data": {
      "text/plain": [
       "torch.Size([1, 80, 3000])"
      ]
     },
     "execution_count": 38,
     "metadata": {},
     "output_type": "execute_result"
    }
   ],
   "source": [
    "mel.size()"
   ]
  },
  {
   "cell_type": "code",
   "execution_count": 40,
   "id": "be69dda6-4a4f-49f5-a744-db7955a2ee04",
   "metadata": {},
   "outputs": [
    {
     "name": "stdout",
     "output_type": "stream",
     "text": [
      "torch.Size([1, 1500, 1024])\n"
     ]
    },
    {
     "data": {
      "text/plain": [
       "torch.Size([1, 30, 1024])"
      ]
     },
     "execution_count": 40,
     "metadata": {},
     "output_type": "execute_result"
    }
   ],
   "source": [
    "class trans(torch.nn.Module):\n",
    "    def __init__(self):\n",
    "        super().__init__()\n",
    "        self.project_audio1 = torch.nn.Conv1d(1024, 1024, kernel_size=10, stride=5, padding=1)\n",
    "        self.project_audio2 = torch.nn.Conv1d(1024, 1024, kernel_size=10, stride=10, padding=1)\n",
    "    def forward(self, data):\n",
    "        data = self.project_audio1(data)\n",
    "        data = self.project_audio2(data)\n",
    "        return data\n",
    "trans = trans()\n",
    "trans = trans.to(\"cuda\")\n",
    "\n",
    "print(output.last_hidden_state.size())\n",
    "trans(output.last_hidden_state.transpose(1, 2)).transpose(1, 2).size()"
   ]
  },
  {
   "cell_type": "code",
   "execution_count": null,
   "id": "6803fd5d-7483-4739-8ddd-683636b9bc90",
   "metadata": {},
   "outputs": [],
   "source": []
  },
  {
   "cell_type": "code",
   "execution_count": null,
   "id": "28c1a6b1-7caf-448f-b7e5-44b126cccdf8",
   "metadata": {},
   "outputs": [],
   "source": []
  },
  {
   "cell_type": "code",
   "execution_count": null,
   "id": "a355c99c-e9e7-44f2-835e-18c881819fb9",
   "metadata": {},
   "outputs": [],
   "source": []
  },
  {
   "cell_type": "code",
   "execution_count": null,
   "id": "33b5f82a-142e-4809-9135-48ae9166abd5",
   "metadata": {},
   "outputs": [],
   "source": []
  },
  {
   "cell_type": "code",
   "execution_count": null,
   "id": "acb7759d-0e4f-4388-a03e-5126ea59d92c",
   "metadata": {},
   "outputs": [],
   "source": []
  }
 ],
 "metadata": {
  "kernelspec": {
   "display_name": "imagebind_LLM",
   "language": "python",
   "name": "imagebind_llm"
  },
  "language_info": {
   "codemirror_mode": {
    "name": "ipython",
    "version": 3
   },
   "file_extension": ".py",
   "mimetype": "text/x-python",
   "name": "python",
   "nbconvert_exporter": "python",
   "pygments_lexer": "ipython3",
   "version": "3.9.17"
  }
 },
 "nbformat": 4,
 "nbformat_minor": 5
}
